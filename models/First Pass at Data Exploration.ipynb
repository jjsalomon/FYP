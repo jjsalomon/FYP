{
 "cells": [
  {
   "cell_type": "code",
   "execution_count": 31,
   "metadata": {},
   "outputs": [
    {
     "name": "stdout",
     "output_type": "stream",
     "text": [
      "C:\\Users\\azkei\\Desktop\\lung_cancer_data\\sample_images\\\n",
      "['00cba091fa4ad62cc3200a657aeb957e', '0a099f2549429d29b32f349e95fb2244', '0a0c32c9e08cc2ea76a71649de56be6d', '0a38e7597ca26f9374f8ea2770ba870d', '0acbebb8d463b4b9ca88cf38431aac69', '0b20184e0cd497028bdd155d9fb42dc9', '0bd0e3056cbf23a1cb7f0f0b18446068', '0c0de3749d4fe175b7a5098b060982a1', '0c37613214faddf8701ca41e6d43f56e', '0c59313f52304e25d5a7dcf9877633b1', '0c60f4b87afcb3e2dfa65abbbf3ef2f9', '0c98fcb55e3f36d0c2b6507f62f4c5f1', '0c9d8314f9c69840e25febabb1229fa4', '0ca943d821204ceb089510f836a367fd', '0d06d764d3c07572074d468b4cff954f', '0d19f1c627df49eb223771c28548350e', '0d2fcf787026fece4e57be167d079383', '0d941a3ad6c889ac451caf89c46cb92a', '0ddeb08e9c97227853422bd71a2a695e', '0de72529c30fe642bc60dcb75c87f6bd']\n"
     ]
    },
    {
     "data": {
      "text/html": [
       "<div>\n",
       "<style>\n",
       "    .dataframe thead tr:only-child th {\n",
       "        text-align: right;\n",
       "    }\n",
       "\n",
       "    .dataframe thead th {\n",
       "        text-align: left;\n",
       "    }\n",
       "\n",
       "    .dataframe tbody tr th {\n",
       "        vertical-align: top;\n",
       "    }\n",
       "</style>\n",
       "<table border=\"1\" class=\"dataframe\">\n",
       "  <thead>\n",
       "    <tr style=\"text-align: right;\">\n",
       "      <th></th>\n",
       "      <th>cancer</th>\n",
       "    </tr>\n",
       "    <tr>\n",
       "      <th>id</th>\n",
       "      <th></th>\n",
       "    </tr>\n",
       "  </thead>\n",
       "  <tbody>\n",
       "    <tr>\n",
       "      <th>0015ceb851d7251b8f399e39779d1e7d</th>\n",
       "      <td>1</td>\n",
       "    </tr>\n",
       "    <tr>\n",
       "      <th>0030a160d58723ff36d73f41b170ec21</th>\n",
       "      <td>0</td>\n",
       "    </tr>\n",
       "    <tr>\n",
       "      <th>003f41c78e6acfa92430a057ac0b306e</th>\n",
       "      <td>0</td>\n",
       "    </tr>\n",
       "    <tr>\n",
       "      <th>006b96310a37b36cccb2ab48d10b49a3</th>\n",
       "      <td>1</td>\n",
       "    </tr>\n",
       "    <tr>\n",
       "      <th>008464bb8521d09a42985dd8add3d0d2</th>\n",
       "      <td>1</td>\n",
       "    </tr>\n",
       "  </tbody>\n",
       "</table>\n",
       "</div>"
      ],
      "text/plain": [
       "                                  cancer\n",
       "id                                      \n",
       "0015ceb851d7251b8f399e39779d1e7d       1\n",
       "0030a160d58723ff36d73f41b170ec21       0\n",
       "003f41c78e6acfa92430a057ac0b306e       0\n",
       "006b96310a37b36cccb2ab48d10b49a3       1\n",
       "008464bb8521d09a42985dd8add3d0d2       1"
      ]
     },
     "execution_count": 31,
     "metadata": {},
     "output_type": "execute_result"
    }
   ],
   "source": [
    "import dicom\n",
    "import os\n",
    "import pandas as pd\n",
    "import matplotlib.pyplot as plt\n",
    "import numpy as np\n",
    "import pandas as pd\n",
    "import cv2\n",
    "import math\n",
    "% matplotlib inline\n",
    "\n",
    "data_dir = os.getcwd() + '\\\\sample_images\\\\'\n",
    "patients = os.listdir(data_dir)\n",
    "labels_df = pd.read_csv('stage1_labels.csv',index_col = 0)\n",
    "\n",
    "print(data_dir)\n",
    "print(patients)\n",
    "labels_df.head()"
   ]
  },
  {
   "cell_type": "code",
   "execution_count": 19,
   "metadata": {},
   "outputs": [
    {
     "name": "stdout",
     "output_type": "stream",
     "text": [
      "134 (512, 512)\n",
      "128 (512, 512)\n",
      "133 (512, 512)\n",
      "110 (512, 512)\n",
      "203 (512, 512)\n"
     ]
    }
   ],
   "source": [
    "# Iterate through 5 patients in sample_image - checking out attributes\n",
    "for patient in patients[:5]:\n",
    "    label = labels_df.get_value(patient,'cancer')\n",
    "    path = data_dir + patient\n",
    "    # using dicom to read the dicom files using full patient path\n",
    "    slices = [dicom.read_file(path+ '/' + s) for s in os.listdir(path)]\n",
    "    # sorting dicom files using lambda function\n",
    "    # x - referred to dicom files\n",
    "    slices.sort(key = lambda x: int(x.ImagePositionPatient[2]))\n",
    "    print(len(slices), slices[0].pixel_array.shape)"
   ]
  },
  {
   "cell_type": "markdown",
   "metadata": {},
   "source": [
    "<p>IMPORTANT NOTE: Not all images are the same size.......depth isnt the same and width, height are too large for CNN </p>"
   ]
  },
  {
   "cell_type": "code",
   "execution_count": 21,
   "metadata": {},
   "outputs": [
    {
     "data": {
      "text/plain": [
       "20"
      ]
     },
     "execution_count": 21,
     "metadata": {},
     "output_type": "execute_result"
    }
   ],
   "source": [
    "# No. of Instances in the sample_image\n",
    "len(patients)"
   ]
  },
  {
   "cell_type": "code",
   "execution_count": 50,
   "metadata": {},
   "outputs": [
    {
     "name": "stdout",
     "output_type": "stream",
     "text": [
      "0\n",
      "134 20\n",
      "128 20\n",
      "133 20\n",
      "110 20\n",
      "203 20\n"
     ]
    }
   ],
   "source": [
    "# Pre processing data\n",
    "IMG_PX_SIZE = 50\n",
    "HM_SLICES = 20\n",
    "\n",
    "def chunks(l, n):\n",
    "    # Credit: Ned Batchelder\n",
    "    # Link: http://stackoverflow.com/questions/312443/how-do-you-split-a-list-into-evenly-sized-chunks\n",
    "    \"\"\"Yield successive n-sized chunks from l.\"\"\"\n",
    "    for i in range(0, len(l), n):\n",
    "        yield l[i:i + n]\n",
    "        \n",
    "\n",
    "def mean(l):\n",
    "    return sum(l)/len(l)\n",
    "\n",
    "def process_data(patient, labels_df, img_px_size = 50, hm_slices=20, visualize = False):\n",
    "    try:\n",
    "        label = labels_df.get_value(patient, 'cancer')\n",
    "        path = data_dir + patient\n",
    "        slices = [dicom.read_file(path + '/' + s) for s in os.listdir(path)]\n",
    "        slices.sort(key = lambda x: int(x.ImagePositionPatient[2]))\n",
    "        new_slices = []\n",
    "\n",
    "        slices = [cv2.resize(np.array(each_slice.pixel_array),(IMG_PX_SIZE,IMG_PX_SIZE)) for each_slice in slices]\n",
    "\n",
    "        chunk_sizes = math.ceil(len(slices) / HM_SLICES)\n",
    "\n",
    "        for slice_chunk in chunks(slices, chunk_sizes):\n",
    "            slice_chunk = list(map(mean, zip(*slice_chunk)))\n",
    "            new_slices.append(slice_chunk)\n",
    "\n",
    "        if len(new_slices) == HM_SLICES-1:\n",
    "            new_slices.append(new_slices[-1])\n",
    "\n",
    "        if len(new_slices) == HM_SLICES-2:\n",
    "            new_slices.append(new_slices[-1])\n",
    "            new_slices.append(new_slices[-1])\n",
    "\n",
    "        if len(new_slices) == HM_SLICES+2:\n",
    "            new_val = list(map(mean, zip(*[new_slices[HM_SLICES-1],new_slices[HM_SLICES],])))\n",
    "            del new_slices[HM_SLICES]\n",
    "            new_slices[HM_SLICES-1] = new_val\n",
    "\n",
    "        if len(new_slices) == HM_SLICES+1:\n",
    "            new_val = list(map(mean, zip(*[new_slices[HM_SLICES-1],new_slices[HM_SLICES],])))\n",
    "            del new_slices[HM_SLICES]\n",
    "            new_slices[HM_SLICES-1] = new_val\n",
    "        print(len(slices), len(new_slices))\n",
    "        \n",
    "        if visualize:\n",
    "            fig = plt.figure()\n",
    "            for num, each_slice in enumerate(slices[:12]):\n",
    "                y = fig.add_subplot(3,4,num+1)\n",
    "                y.imshow(each_slice)\n",
    "            plt.show()\n",
    "            \n",
    "        if label == 1:\n",
    "            label = np.array([0,1])\n",
    "        elif label == 1:\n",
    "            label = np.array([0,1])\n",
    "        \n",
    "        return np.array(new_slices),label\n",
    "    \n",
    "    except Exception as e:\n",
    "        # again, some patients are not labeled, but JIC we still want the error if something\n",
    "        # else is wrong with our code\n",
    "        print(str(e))\n",
    "        \n",
    "much_data = []\n",
    "for num, patient in enumerate(patients[:5]):\n",
    "    if num%100 == 0:\n",
    "        print(num)\n",
    "    try:\n",
    "        img_data, label = process_data(patient,labels_df,img_px_size=IMG_PX_SIZE, hm_slices=HM_SLICES)\n",
    "        much_data.append([img_data, label])\n",
    "    except KeyError as e:\n",
    "        print(\"This is unlabeled data\")\n",
    "    \n",
    "np.save('muchdata--{}--{}--{}.npy'.format(IMG_PX_SIZE,IMG_PX_SIZE,HM_SLICES),much_data)"
   ]
  },
  {
   "cell_type": "markdown",
   "metadata": {},
   "source": [
    "<p> Each of this instance is a patient </p>"
   ]
  },
  {
   "cell_type": "code",
   "execution_count": null,
   "metadata": {
    "collapsed": true
   },
   "outputs": [],
   "source": [
    "\n",
    "    "
   ]
  }
 ],
 "metadata": {
  "kernelspec": {
   "display_name": "Python 3",
   "language": "python",
   "name": "python3"
  },
  "language_info": {
   "codemirror_mode": {
    "name": "ipython",
    "version": 3
   },
   "file_extension": ".py",
   "mimetype": "text/x-python",
   "name": "python",
   "nbconvert_exporter": "python",
   "pygments_lexer": "ipython3",
   "version": "3.5.3"
  }
 },
 "nbformat": 4,
 "nbformat_minor": 2
}
