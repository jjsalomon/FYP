{
 "cells": [
  {
   "cell_type": "code",
   "execution_count": 12,
   "metadata": {},
   "outputs": [],
   "source": [
    "from __future__ import print_function, division\n",
    "import SimpleITK as sitk\n",
    "import numpy as np\n",
    "import csv\n",
    "from glob import glob\n",
    "import os\n",
    "from tqdm import tqdm\n",
    "import pandas as pd\n",
    "\n",
    "output = os.getcwd()+\"\\\\output2\\\\\"\n",
    "\n",
    "# Helper function to get rows in data frame associated \n",
    "# with each file\n",
    "def get_filename(file_list, case):\n",
    "    for f in file_list:\n",
    "        if case in f:\n",
    "            return(f)# The locations of the nodes"
   ]
  },
  {
   "cell_type": "code",
   "execution_count": 4,
   "metadata": {},
   "outputs": [
    {
     "name": "stdout",
     "output_type": "stream",
     "text": [
      "C:\\Users\\azkei\\Desktop\\lung_cancer_data2\\subset0\\\n"
     ]
    }
   ],
   "source": [
    "image_path = os.getcwd()+\"\\\\subset0\\\\\"\n",
    "file_list = glob(image_path)\n",
    "print(image_path)"
   ]
  },
  {
   "cell_type": "code",
   "execution_count": 5,
   "metadata": {},
   "outputs": [
    {
     "data": {
      "text/plain": [
       "['C:\\\\Users\\\\azkei\\\\Desktop\\\\lung_cancer_data2\\\\subset0\\\\1.3.6.1.4.1.14519.5.2.1.6279.6001.105756658031515062000744821260.mhd',\n",
       " 'C:\\\\Users\\\\azkei\\\\Desktop\\\\lung_cancer_data2\\\\subset0\\\\1.3.6.1.4.1.14519.5.2.1.6279.6001.108197895896446896160048741492.mhd',\n",
       " 'C:\\\\Users\\\\azkei\\\\Desktop\\\\lung_cancer_data2\\\\subset0\\\\1.3.6.1.4.1.14519.5.2.1.6279.6001.109002525524522225658609808059.mhd']"
      ]
     },
     "execution_count": 5,
     "metadata": {},
     "output_type": "execute_result"
    }
   ],
   "source": [
    "file_list = glob(image_path+\"*.mhd\")\n",
    "# Showing 3 instances\n",
    "file_list[0:3]"
   ]
  },
  {
   "cell_type": "code",
   "execution_count": 6,
   "metadata": {
    "collapsed": true
   },
   "outputs": [],
   "source": [
    "df_node = pd.read_csv(\"annotations.csv\")\n",
    "df_node[\"file\"] = df_node[\"seriesuid\"].map(lambda file_name: get_filename(file_list, file_name))\n",
    "df_node = df_node.dropna()"
   ]
  },
  {
   "cell_type": "code",
   "execution_count": 7,
   "metadata": {},
   "outputs": [
    {
     "data": {
      "text/html": [
       "<div>\n",
       "<style>\n",
       "    .dataframe thead tr:only-child th {\n",
       "        text-align: right;\n",
       "    }\n",
       "\n",
       "    .dataframe thead th {\n",
       "        text-align: left;\n",
       "    }\n",
       "\n",
       "    .dataframe tbody tr th {\n",
       "        vertical-align: top;\n",
       "    }\n",
       "</style>\n",
       "<table border=\"1\" class=\"dataframe\">\n",
       "  <thead>\n",
       "    <tr style=\"text-align: right;\">\n",
       "      <th></th>\n",
       "      <th>seriesuid</th>\n",
       "      <th>coordX</th>\n",
       "      <th>coordY</th>\n",
       "      <th>coordZ</th>\n",
       "      <th>diameter_mm</th>\n",
       "      <th>file</th>\n",
       "    </tr>\n",
       "  </thead>\n",
       "  <tbody>\n",
       "    <tr>\n",
       "      <th>23</th>\n",
       "      <td>1.3.6.1.4.1.14519.5.2.1.6279.6001.108197895896...</td>\n",
       "      <td>-100.567944</td>\n",
       "      <td>67.260517</td>\n",
       "      <td>-231.816619</td>\n",
       "      <td>6.440879</td>\n",
       "      <td>C:\\Users\\azkei\\Desktop\\lung_cancer_data2\\subse...</td>\n",
       "    </tr>\n",
       "    <tr>\n",
       "      <th>25</th>\n",
       "      <td>1.3.6.1.4.1.14519.5.2.1.6279.6001.109002525524...</td>\n",
       "      <td>46.188539</td>\n",
       "      <td>48.402806</td>\n",
       "      <td>-108.578632</td>\n",
       "      <td>13.596471</td>\n",
       "      <td>C:\\Users\\azkei\\Desktop\\lung_cancer_data2\\subse...</td>\n",
       "    </tr>\n",
       "    <tr>\n",
       "      <th>26</th>\n",
       "      <td>1.3.6.1.4.1.14519.5.2.1.6279.6001.109002525524...</td>\n",
       "      <td>36.392044</td>\n",
       "      <td>76.771663</td>\n",
       "      <td>-123.321911</td>\n",
       "      <td>4.343200</td>\n",
       "      <td>C:\\Users\\azkei\\Desktop\\lung_cancer_data2\\subse...</td>\n",
       "    </tr>\n",
       "  </tbody>\n",
       "</table>\n",
       "</div>"
      ],
      "text/plain": [
       "                                            seriesuid      coordX     coordY  \\\n",
       "23  1.3.6.1.4.1.14519.5.2.1.6279.6001.108197895896... -100.567944  67.260517   \n",
       "25  1.3.6.1.4.1.14519.5.2.1.6279.6001.109002525524...   46.188539  48.402806   \n",
       "26  1.3.6.1.4.1.14519.5.2.1.6279.6001.109002525524...   36.392044  76.771663   \n",
       "\n",
       "        coordZ  diameter_mm                                               file  \n",
       "23 -231.816619     6.440879  C:\\Users\\azkei\\Desktop\\lung_cancer_data2\\subse...  \n",
       "25 -108.578632    13.596471  C:\\Users\\azkei\\Desktop\\lung_cancer_data2\\subse...  \n",
       "26 -123.321911     4.343200  C:\\Users\\azkei\\Desktop\\lung_cancer_data2\\subse...  "
      ]
     },
     "execution_count": 7,
     "metadata": {},
     "output_type": "execute_result"
    }
   ],
   "source": [
    "df_node.head(3)"
   ]
  },
  {
   "cell_type": "code",
   "execution_count": 8,
   "metadata": {
    "collapsed": true
   },
   "outputs": [],
   "source": [
    "def create_mask(center, diameter,z,width,height,spacing,origin):\n",
    "    \"\"\"\n",
    "        Center : Center of the circles px -- list of coordinates x,y,z\n",
    "        Diameter: Diameter of the circle mask\n",
    "        Width and Height: Pixel Dimension of the Image\n",
    "        Spacing = MM/PX Conversion Rate -- np.array x,y,z\n",
    "        Origin = X,Y,Z MM np.array\n",
    "        Z = Z position of world coordinates in MM\n",
    "    \"\"\""
   ]
  },
  {
   "cell_type": "code",
   "execution_count": 15,
   "metadata": {},
   "outputs": [
    {
     "name": "stderr",
     "output_type": "stream",
     "text": [
      "  0%|          | 0/89 [00:00<?, ?it/s]\n"
     ]
    },
    {
     "ename": "NameError",
     "evalue": "name 'num_z' is not defined",
     "output_type": "error",
     "traceback": [
      "\u001b[1;31m---------------------------------------------------------------------------\u001b[0m",
      "\u001b[1;31mNameError\u001b[0m                                 Traceback (most recent call last)",
      "\u001b[1;32m<ipython-input-15-b88d71b6052c>\u001b[0m in \u001b[0;36m<module>\u001b[1;34m()\u001b[0m\n\u001b[0;32m     34\u001b[0m             \u001b[1;31m# Iterate through the 3 images\u001b[0m\u001b[1;33m\u001b[0m\u001b[1;33m\u001b[0m\u001b[0m\n\u001b[0;32m     35\u001b[0m             for i, i_z in enumerate(np.arange(int(v_center[2])-1,\n\u001b[1;32m---> 36\u001b[1;33m                              int(v_center[2])+2).clip(0, num_z-1)):\n\u001b[0m\u001b[0;32m     37\u001b[0m                 mask = make_masks(center,diam,i_z*spacing[2]+origin[2],\n\u001b[0;32m     38\u001b[0m                                  width,height,spacing,origin)\n",
      "\u001b[1;31mNameError\u001b[0m: name 'num_z' is not defined"
     ]
    }
   ],
   "source": [
    "# Number of Slices to extract\n",
    "NO_SLICES = 3\n",
    "\n",
    "# Loop over image files\n",
    "for fcount, img_file in enumerate(tqdm(file_list)):\n",
    "    # Get all nodules associated with the file\n",
    "    df = df_node[df_node[\"file\"] == img_file]\n",
    "    # If a file doesnt have any nodules, skip it\n",
    "    if df.shape[0] > 0:\n",
    "        # Load image using SimpleITK\n",
    "        itk_img = sitk.ReadImage(img_file)\n",
    "        # Turning the SITK Image to Array\n",
    "        img_array = sitk.GetArrayFromImage(itk_img)\n",
    "        # Taking number of images (Z), Height, Width\n",
    "        num_ch, height, width = img_array.shape\n",
    "        # Get X,Y,Z Origin in World Coordinates (mm)\n",
    "        origin = np.array(itk_img.GetOrigin())\n",
    "        # Get Spacing of Voxels in World Coordinates(mm)\n",
    "        spacing = np.array(itk_img.GetSpacing())\n",
    "        # Iterate through all of the cancer nodes\n",
    "        for node_idx, current_row in df.iterrows():\n",
    "            # Get Row Values\n",
    "            node_x = current_row[\"coordX\"]\n",
    "            node_y = current_row[\"coordY\"]\n",
    "            node_z = current_row[\"coordZ\"]\n",
    "            diameter = current_row[\"diameter_mm\"]\n",
    "            imgs = np.ndarray([NO_SLICES,height,width],dtype=np.float32)\n",
    "            masks = np.ndarray([NO_SLICES,height,width],dtype=np.uint8)\n",
    "            # Center of the cancer nodule\n",
    "            center = np.array([node_x,node_y,node_y])\n",
    "            # Center of the cancer nodule in Voxel Space\n",
    "            # np.rint rounds off the elements of the array the nearest int\n",
    "            v_center = np.rint((center-origin)/spacing)\n",
    "            # Iterate through the 3 images\n",
    "            for i, i_z in enumerate(np.arange(int(v_center[2])-1,\n",
    "                             int(v_center[2])+2).clip(0, num_ch-1)):\n",
    "                mask = make_masks(center,diam,i_z*spacing[2]+origin[2],\n",
    "                                 width,height,spacing,origin)\n",
    "                masks[i] = mask\n",
    "                imgs[i] = img_array[i_z]\n",
    "        # Save output        \n",
    "        np.save(os.path.join(output_path,\"images_%04d_%04d.npy\" % (fcount, node_idx)),imgs)\n",
    "        np.save(os.path.join(output_path,\"masks_%04d_%04d.npy\" % (fcount, node_idx)),masks)"
   ]
  },
  {
   "cell_type": "code",
   "execution_count": null,
   "metadata": {
    "collapsed": true
   },
   "outputs": [],
   "source": []
  }
 ],
 "metadata": {
  "kernelspec": {
   "display_name": "Python 3",
   "language": "python",
   "name": "python3"
  },
  "language_info": {
   "codemirror_mode": {
    "name": "ipython",
    "version": 3
   },
   "file_extension": ".py",
   "mimetype": "text/x-python",
   "name": "python",
   "nbconvert_exporter": "python",
   "pygments_lexer": "ipython3",
   "version": "3.5.3"
  }
 },
 "nbformat": 4,
 "nbformat_minor": 2
}
